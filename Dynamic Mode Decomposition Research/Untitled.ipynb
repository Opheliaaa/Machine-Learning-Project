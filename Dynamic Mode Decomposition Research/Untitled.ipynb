{
 "cells": [
  {
   "cell_type": "code",
   "execution_count": 3,
   "metadata": {
    "collapsed": true
   },
   "outputs": [],
   "source": [
    "##AMUSE algo to compute TICA, generate TICA coordinates \n",
    "def tica(X):\n",
    "    '''output TICA coordinates'''\n",
    "    U, s, Vt = np.linalg.svd(X, False)\n",
    "    X_tilta=numpy.linalg.inv(s)*U.T*X\n",
    "    Y_tilta=numpy.linalg.inv(s)*U.T*Y\n",
    "    M_TICA=X_tilta*(Y_tilta.T)\n",
    "    eigs, w = np.linalg.eig(M_TICA)\n",
    "    return [[i for i in w],[U*numpy.linalg.inv(s)*i for i in w]]\n",
    "\n",
    "##Generate Standard DMD mode\n",
    "def standard_DMD(X,Y):\n",
    "    '''output eigenvalues, eigenvectors, corresponding standard dmd mode'''\n",
    "    U, s, Vt = np.linalg.svd(X, False)\n",
    "    M_DMD=U.T*Y*Vt.T*numpy.linalg.inv(s)\n",
    "    eigs, w = np.linalg.eig(M_DMD)\n",
    "    return [eigs,w,U*i for i in w]\n",
    "\n",
    "##Generate Exact DMD mode \n",
    "def exact_DMD(X,Y):\n",
    "    '''output eigenvalues, eigenvectors, corresponding exact dmd mode'''\n",
    "    U, s, Vt = np.linalg.svd(X, False)\n",
    "    M_DMD=U.T*Y*Vt.T*numpy.linalg.inv(s)\n",
    "    eigs, w = np.linalg.eig(M_DMD)\n",
    "    DMD_mode=[]\n",
    "    for i in range(len(w)):\n",
    "        new=1/eigs[i]*Y*Vt.T*numpy.linalg.inv(s)*w[i]\n",
    "        DMD_mode+=new\n",
    "    return [eigs, w,DMD_mode]"
   ]
  },
  {
   "cell_type": "code",
   "execution_count": 1,
   "metadata": {},
   "outputs": [
    {
     "data": {
      "text/plain": [
       "[1, 2]"
      ]
     },
     "execution_count": 1,
     "metadata": {},
     "output_type": "execute_result"
    }
   ],
   "source": [
    "## heapmap covariance matrix \n",
    "regenerate the model and sthing create this flui"
   ]
  },
  {
   "cell_type": "code",
   "execution_count": 2,
   "metadata": {},
   "outputs": [
    {
     "data": {
      "text/plain": [
       "[1, 2]"
      ]
     },
     "execution_count": 2,
     "metadata": {},
     "output_type": "execute_result"
    }
   ],
   "source": [
    "[1]+[2]"
   ]
  },
  {
   "cell_type": "code",
   "execution_count": null,
   "metadata": {
    "collapsed": true
   },
   "outputs": [],
   "source": []
  }
 ],
 "metadata": {
  "kernelspec": {
   "display_name": "Python 3",
   "language": "python",
   "name": "python3"
  },
  "language_info": {
   "codemirror_mode": {
    "name": "ipython",
    "version": 3
   },
   "file_extension": ".py",
   "mimetype": "text/x-python",
   "name": "python",
   "nbconvert_exporter": "python",
   "pygments_lexer": "ipython3",
   "version": "3.6.3"
  }
 },
 "nbformat": 4,
 "nbformat_minor": 2
}
