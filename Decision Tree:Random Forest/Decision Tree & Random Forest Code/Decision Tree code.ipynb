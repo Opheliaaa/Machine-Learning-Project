{
 "cells": [
  {
   "cell_type": "code",
   "execution_count": 3,
   "metadata": {
    "collapsed": true
   },
   "outputs": [],
   "source": [
    "import io\n",
    "from collections import Counter\n",
    "import pandas as pd\n",
    "import numpy as np\n",
    "from scipy import io\n",
    "import sklearn.model_selection\n",
    "import sklearn.tree\n",
    "from numpy import genfromtxt\n",
    "from scipy import stats\n",
    "from sklearn.base import BaseEstimator, ClassifierMixin\n",
    "\n",
    "import pydot\n",
    "\n",
    "eps = 1e-5  # a small number"
   ]
  },
  {
   "cell_type": "code",
   "execution_count": 363,
   "metadata": {},
   "outputs": [
    {
     "data": {
      "text/html": [
       "<div>\n",
       "<style>\n",
       "    .dataframe thead tr:only-child th {\n",
       "        text-align: right;\n",
       "    }\n",
       "\n",
       "    .dataframe thead th {\n",
       "        text-align: left;\n",
       "    }\n",
       "\n",
       "    .dataframe tbody tr th {\n",
       "        vertical-align: top;\n",
       "    }\n",
       "</style>\n",
       "<table border=\"1\" class=\"dataframe\">\n",
       "  <thead>\n",
       "    <tr style=\"text-align: right;\">\n",
       "      <th></th>\n",
       "      <th>freq_pain_feature</th>\n",
       "      <th>freq_private_feature</th>\n",
       "      <th>freq_bank_feature</th>\n",
       "      <th>freq_money_feature</th>\n",
       "      <th>freq_drug_feature</th>\n",
       "      <th>freq_spam_feature</th>\n",
       "      <th>freq_prescription_feature</th>\n",
       "      <th>freq_creative_feature</th>\n",
       "      <th>freq_height_feature</th>\n",
       "      <th>freq_featured_feature</th>\n",
       "      <th>...</th>\n",
       "      <th>freq_record_feature</th>\n",
       "      <th>freq_out_feature</th>\n",
       "      <th>freq_semicolon_feature</th>\n",
       "      <th>freq_dollar_feature</th>\n",
       "      <th>freq_sharp_feature</th>\n",
       "      <th>freq_exclamation_feature</th>\n",
       "      <th>freq_para_feature</th>\n",
       "      <th>freq_bracket_feature</th>\n",
       "      <th>freq_and_feature</th>\n",
       "      <th>training_labels</th>\n",
       "    </tr>\n",
       "  </thead>\n",
       "  <tbody>\n",
       "    <tr>\n",
       "      <th>0</th>\n",
       "      <td>0.0</td>\n",
       "      <td>0.0</td>\n",
       "      <td>0.0</td>\n",
       "      <td>0.0</td>\n",
       "      <td>0.0</td>\n",
       "      <td>0.0</td>\n",
       "      <td>0.0</td>\n",
       "      <td>0.0</td>\n",
       "      <td>0.0</td>\n",
       "      <td>0.0</td>\n",
       "      <td>...</td>\n",
       "      <td>0.0</td>\n",
       "      <td>0.0</td>\n",
       "      <td>0.0</td>\n",
       "      <td>0.0</td>\n",
       "      <td>0.0</td>\n",
       "      <td>1.0</td>\n",
       "      <td>0.0</td>\n",
       "      <td>0.0</td>\n",
       "      <td>0.0</td>\n",
       "      <td>1</td>\n",
       "    </tr>\n",
       "    <tr>\n",
       "      <th>1</th>\n",
       "      <td>0.0</td>\n",
       "      <td>0.0</td>\n",
       "      <td>0.0</td>\n",
       "      <td>0.0</td>\n",
       "      <td>0.0</td>\n",
       "      <td>0.0</td>\n",
       "      <td>3.0</td>\n",
       "      <td>0.0</td>\n",
       "      <td>0.0</td>\n",
       "      <td>0.0</td>\n",
       "      <td>...</td>\n",
       "      <td>0.0</td>\n",
       "      <td>0.0</td>\n",
       "      <td>0.0</td>\n",
       "      <td>0.0</td>\n",
       "      <td>0.0</td>\n",
       "      <td>5.0</td>\n",
       "      <td>0.0</td>\n",
       "      <td>0.0</td>\n",
       "      <td>0.0</td>\n",
       "      <td>1</td>\n",
       "    </tr>\n",
       "    <tr>\n",
       "      <th>2</th>\n",
       "      <td>0.0</td>\n",
       "      <td>0.0</td>\n",
       "      <td>0.0</td>\n",
       "      <td>0.0</td>\n",
       "      <td>0.0</td>\n",
       "      <td>0.0</td>\n",
       "      <td>0.0</td>\n",
       "      <td>0.0</td>\n",
       "      <td>0.0</td>\n",
       "      <td>0.0</td>\n",
       "      <td>...</td>\n",
       "      <td>0.0</td>\n",
       "      <td>0.0</td>\n",
       "      <td>0.0</td>\n",
       "      <td>0.0</td>\n",
       "      <td>0.0</td>\n",
       "      <td>0.0</td>\n",
       "      <td>0.0</td>\n",
       "      <td>0.0</td>\n",
       "      <td>0.0</td>\n",
       "      <td>1</td>\n",
       "    </tr>\n",
       "    <tr>\n",
       "      <th>3</th>\n",
       "      <td>0.0</td>\n",
       "      <td>0.0</td>\n",
       "      <td>1.0</td>\n",
       "      <td>1.0</td>\n",
       "      <td>1.0</td>\n",
       "      <td>0.0</td>\n",
       "      <td>0.0</td>\n",
       "      <td>0.0</td>\n",
       "      <td>0.0</td>\n",
       "      <td>0.0</td>\n",
       "      <td>...</td>\n",
       "      <td>0.0</td>\n",
       "      <td>0.0</td>\n",
       "      <td>3.0</td>\n",
       "      <td>1.0</td>\n",
       "      <td>0.0</td>\n",
       "      <td>0.0</td>\n",
       "      <td>2.0</td>\n",
       "      <td>0.0</td>\n",
       "      <td>0.0</td>\n",
       "      <td>1</td>\n",
       "    </tr>\n",
       "    <tr>\n",
       "      <th>4</th>\n",
       "      <td>0.0</td>\n",
       "      <td>0.0</td>\n",
       "      <td>0.0</td>\n",
       "      <td>0.0</td>\n",
       "      <td>0.0</td>\n",
       "      <td>0.0</td>\n",
       "      <td>0.0</td>\n",
       "      <td>0.0</td>\n",
       "      <td>0.0</td>\n",
       "      <td>0.0</td>\n",
       "      <td>...</td>\n",
       "      <td>0.0</td>\n",
       "      <td>0.0</td>\n",
       "      <td>0.0</td>\n",
       "      <td>1.0</td>\n",
       "      <td>0.0</td>\n",
       "      <td>0.0</td>\n",
       "      <td>2.0</td>\n",
       "      <td>0.0</td>\n",
       "      <td>0.0</td>\n",
       "      <td>1</td>\n",
       "    </tr>\n",
       "  </tbody>\n",
       "</table>\n",
       "<p>5 rows × 33 columns</p>\n",
       "</div>"
      ],
      "text/plain": [
       "   freq_pain_feature          freq_private_feature       \\\n",
       "0                        0.0                        0.0   \n",
       "1                        0.0                        0.0   \n",
       "2                        0.0                        0.0   \n",
       "3                        0.0                        0.0   \n",
       "4                        0.0                        0.0   \n",
       "\n",
       "   freq_bank_feature          freq_money_feature         \\\n",
       "0                        0.0                        0.0   \n",
       "1                        0.0                        0.0   \n",
       "2                        0.0                        0.0   \n",
       "3                        1.0                        1.0   \n",
       "4                        0.0                        0.0   \n",
       "\n",
       "   freq_drug_feature          freq_spam_feature          \\\n",
       "0                        0.0                        0.0   \n",
       "1                        0.0                        0.0   \n",
       "2                        0.0                        0.0   \n",
       "3                        1.0                        0.0   \n",
       "4                        0.0                        0.0   \n",
       "\n",
       "   freq_prescription_feature  freq_creative_feature      \\\n",
       "0                        0.0                        0.0   \n",
       "1                        3.0                        0.0   \n",
       "2                        0.0                        0.0   \n",
       "3                        0.0                        0.0   \n",
       "4                        0.0                        0.0   \n",
       "\n",
       "   freq_height_feature        freq_featured_feature           ...         \\\n",
       "0                        0.0                        0.0       ...          \n",
       "1                        0.0                        0.0       ...          \n",
       "2                        0.0                        0.0       ...          \n",
       "3                        0.0                        0.0       ...          \n",
       "4                        0.0                        0.0       ...          \n",
       "\n",
       "   freq_record_feature        freq_out_feature           \\\n",
       "0                        0.0                        0.0   \n",
       "1                        0.0                        0.0   \n",
       "2                        0.0                        0.0   \n",
       "3                        0.0                        0.0   \n",
       "4                        0.0                        0.0   \n",
       "\n",
       "   freq_semicolon_feature     freq_dollar_feature        \\\n",
       "0                        0.0                        0.0   \n",
       "1                        0.0                        0.0   \n",
       "2                        0.0                        0.0   \n",
       "3                        3.0                        1.0   \n",
       "4                        0.0                        1.0   \n",
       "\n",
       "   freq_sharp_feature         freq_exclamation_feature   \\\n",
       "0                        0.0                        1.0   \n",
       "1                        0.0                        5.0   \n",
       "2                        0.0                        0.0   \n",
       "3                        0.0                        0.0   \n",
       "4                        0.0                        0.0   \n",
       "\n",
       "   freq_para_feature          freq_bracket_feature       \\\n",
       "0                        0.0                        0.0   \n",
       "1                        0.0                        0.0   \n",
       "2                        0.0                        0.0   \n",
       "3                        2.0                        0.0   \n",
       "4                        2.0                        0.0   \n",
       "\n",
       "   freq_and_feature           training_labels  \n",
       "0                        0.0                1  \n",
       "1                        0.0                1  \n",
       "2                        0.0                1  \n",
       "3                        0.0                1  \n",
       "4                        0.0                1  \n",
       "\n",
       "[5 rows x 33 columns]"
      ]
     },
     "execution_count": 363,
     "metadata": {},
     "output_type": "execute_result"
    }
   ],
   "source": [
    "spam=io.loadmat('data/spam_data.mat')\n",
    "spam_training=pd.DataFrame(spam['training_data'])\n",
    "spam_training.columns=spam['column_names']\n",
    "spam_training['training_labels']=spam['training_labels'][0]\n",
    "spam_training.head()"
   ]
  },
  {
   "cell_type": "code",
   "execution_count": 415,
   "metadata": {
    "collapsed": true
   },
   "outputs": [],
   "source": [
    "class DecisionTree:\n",
    "    def __init__(self, max_depth=3, num_features=None, feature_labels=None, bagged_tree=False, random_forest=False):\n",
    "        self.max_depth = max_depth\n",
    "        self.features = feature_labels\n",
    "        self.left, self.right = None, None  # for non-leaf nodes\n",
    "        self.split_idx, self.thresh = None, None  # for non-leaf nodes\n",
    "        self.data, self.pred = None, None  # for leaf nodes\n",
    "        self.bagged_tree=bagged_tree\n",
    "        self.random_forest=random_forest\n",
    "        self.num_features=num_features\n",
    "    @staticmethod\n",
    "    def entropy(y):\n",
    "        # implement entropy\n",
    "        if len(y)==0:\n",
    "            return 0\n",
    "        p0=sum(y==0)/len(y)\n",
    "        p1=sum(y==1)/len(y)\n",
    "        if p0<eps or p1<eps:\n",
    "            return 0\n",
    "        return -p0 * np.log(p0) - p1 * np.log(p1)\n",
    "    \n",
    "    \n",
    "    @staticmethod\n",
    "    def information_gain(X, y, thresh):\n",
    "        # TODO implement information gain function\n",
    "        H_before = DecisionTree.entropy(y)\n",
    "        y0 = y[np.where(X < thresh)[0]]\n",
    "        y1 = y[np.where(X >= thresh)[0]]\n",
    "        H_after = len(y0) / len(y) * DecisionTree.entropy(y0) + len(y1) / len(y) * DecisionTree.entropy(y1)\n",
    "        return H_before - H_after\n",
    "\n",
    "\n",
    "    @staticmethod\n",
    "    def gini_impurity(X,y, thresh):\n",
    "        # TODO implement gini_impurity function\n",
    "        if len(y)==0:\n",
    "            return 0\n",
    "        p0=sum(y==0)/len(y)\n",
    "        p1=sum(y==1)/len(y)\n",
    "        if p0<eps or p1<eps:\n",
    "            return 0\n",
    "        return 1.0 - p0**2 - (1 - p0)**2     \n",
    "\n",
    "    def purification(X, y, thresh):\n",
    "        H_before=DecisionTree.gini_impurity(X,y,thresh)\n",
    "        y0=y[y==0]\n",
    "        p0=len(y0)/len(y)\n",
    "        y0=y[y==1]\n",
    "        p0=len(y1)/len(y)\n",
    "        H_after=p0 * DecisionTree.gini_impurity(X,y0,thresh) + p1 * DecisionTree.gini_impurity(X,y1,thresh)\n",
    "        return H_before-H_after        \n",
    "\n",
    "    def split(self, X, y, idx, thresh):\n",
    "        X0, idx0, X1, idx1 = self.split_test(X, idx=idx, thresh=thresh)\n",
    "        y0, y1 = y[idx0], y[idx1]\n",
    "        return X0, y0, X1, y1\n",
    "\n",
    "    def split_test(self, X, idx, thresh):\n",
    "        idx0 = np.where(X[:, idx] < thresh)[0]\n",
    "        idx1 = np.where(X[:, idx] >= thresh)[0]\n",
    "        X0, X1 = X[idx0, :], X[idx1, :]\n",
    "        return X0, idx0, X1, idx1\n",
    "    \n",
    "    def segmenter(self, X, y):\n",
    "        # compute entropy gain for all single-dimension splits,\n",
    "        # thresholding with a linear interpolation of 10 values\n",
    "        gains = []\n",
    "        # The following logic prevents thresholding on exactly the minimum\n",
    "        # or maximum values, which may not lead to any meaningful node\n",
    "        # splits.\n",
    "        thresh = np.array([\n",
    "            np.linspace(np.min(X[:, i]) + eps, np.max(X[:, i]) - eps, num=10)\n",
    "            for i in range(X.shape[1])\n",
    "        ])\n",
    "        for i in range(X.shape[1]):\n",
    "            gains.append([self.information_gain(X[:, i], y, t) for t in thresh[i, :]])\n",
    "\n",
    "        gains = np.nan_to_num(np.array(gains))\n",
    "        self.split_idx, thresh_idx = np.unravel_index(np.argmax(gains), gains.shape)\n",
    "        self.thresh = thresh[self.split_idx, thresh_idx]\n",
    "        return self.split_idx, self.thresh\n",
    "    \n",
    "    def random_forest_segmenter(self,X,y):\n",
    "        feature_index = np.random.choice(X.shape[1], self.num_features, replace=False)\n",
    "        feature_index.sort()\n",
    "        split_idx, thresh = self.segmenter(X[:, feature_index], y)\n",
    "        self.thresh = thresh\n",
    "        self.split_idx=feature_index[split_idx]\n",
    "        return self.split_idx, self.thresh\n",
    "        \n",
    "    def fit(self, X, y):\n",
    "        if self.max_depth > 0:\n",
    "            if self.random_forest==True:\n",
    "                split_idx, split_thresh=self.random_forest_segmenter(X, y)\n",
    "            else:\n",
    "                split_idx, split_thresh=self.segmenter(X, y)\n",
    "            X0, y0, X1, y1 = self.split(X, y, idx=split_idx, thresh=split_thresh)\n",
    "            if X0.size > 0 and X1.size > 0:\n",
    "                self.left = DecisionTree(\n",
    "                    max_depth=self.max_depth - 1, feature_labels=self.features)\n",
    "                self.left.fit(X0, y0)\n",
    "                self.right = DecisionTree(\n",
    "                    max_depth=self.max_depth - 1, feature_labels=self.features)\n",
    "                self.right.fit(X1, y1)\n",
    "            else:\n",
    "                self.max_depth = 0\n",
    "                self.data, self.labels = X, y\n",
    "                self.pred = stats.mode(y).mode[0]\n",
    "        else:\n",
    "            self.data, self.labels = X, y\n",
    "            self.pred = stats.mode(y).mode[0]\n",
    "        return self\n",
    "\n",
    "    def predict(self, X):\n",
    "        if self.max_depth == 0:\n",
    "            return self.pred * np.ones(X.shape[0])\n",
    "        else:\n",
    "            X0, idx0, X1, idx1 = self.split_test(X, idx=self.split_idx, thresh=self.thresh)\n",
    "            yhat = np.zeros(X.shape[0])\n",
    "            yhat[idx0] = self.left.predict(X0)\n",
    "            yhat[idx1] = self.right.predict(X1)\n",
    "            return yhat\n",
    "    def __repr__(self, level=0):\n",
    "        if self.pred is None:\n",
    "            ret = \"\\t\"*level+\"level \"+str(level)+' '+str(self.features[self.split_idx])+str(' < ')+str(self.thresh)+\"\\n\"\n",
    "            ret += self.left.__repr__(level+1)\n",
    "            ret += self.right.__repr__(level+1)\n",
    "        else:\n",
    "            ret = \"\\t\"*level+'leaf node:'+str(self.pred)+\"\\n\"\n",
    "        return ret\n",
    "\n"
   ]
  },
  {
   "cell_type": "code",
   "execution_count": 418,
   "metadata": {
    "collapsed": true
   },
   "outputs": [],
   "source": [
    "class BaggedTrees():\n",
    "    def __init__(self, params=None, n=200):\n",
    "        if params is None:\n",
    "            params = {}\n",
    "        self.params = params\n",
    "        self.n = n\n",
    "        self.decision_trees = [\n",
    "            DecisionTree(feature_labels=params['feature_labels'], max_depth=params['max_depth'], bagged_tree=True)\n",
    "            for i in range(self.n)\n",
    "        ]\n",
    "\n",
    "    def fit(self, X, y):\n",
    "        # TODO implement function\n",
    "        for i in range(self.n):\n",
    "            idx = np.random.choice(X.shape[0], X.shape[0],replace=True)\n",
    "            newX, newy = X[idx, :], y[idx]\n",
    "            self.decision_trees[i].fit(newX, newy)\n",
    "        return self        \n",
    "\n",
    "\n",
    "    def predict(self, X):\n",
    "        # TODO implement function\n",
    "        predictions=[self.decision_tree[i].predict(X) for i in range(self.n)]\n",
    "        # not array and dtype\n",
    "        average=np.round(np.mean(predctions, axis=0))\n",
    "        return average\n",
    "    \n",
    "\n",
    "    "
   ]
  },
  {
   "cell_type": "code",
   "execution_count": 419,
   "metadata": {
    "collapsed": true
   },
   "outputs": [],
   "source": [
    "class RandomForest(BaggedTrees):\n",
    "    def __init__(self, params=None, n=200, m=1):\n",
    "        if params is None:\n",
    "            params = {}\n",
    "        # TODO implement function\n",
    "        self.params=params\n",
    "        self.n=n\n",
    "        self.num_features=m\n",
    "        self.decision_trees=[\n",
    "            DecisionTree(feature_labels=params['feature_labels'], max_depth=params['max_depth'], num_features=m, random_forest=True)\n",
    "            for i in range(self.n)\n",
    "        ]\n",
    "    \n",
    "    def fit(self, X, y):\n",
    "        # TODO implement function\n",
    "        for i in range(self.n):\n",
    "            idx = np.random.choice(X.shape[0], X.shape[0])\n",
    "            newX, newy = X[idx, :], y[idx]\n",
    "            self.decision_trees[i].fit(newX, newy)\n",
    "        return self        \n",
    "\n",
    "\n",
    "  \n",
    "        "
   ]
  },
  {
   "cell_type": "code",
   "execution_count": 250,
   "metadata": {
    "collapsed": true
   },
   "outputs": [],
   "source": [
    "class BoostedRandomForest(RandomForest):\n",
    "    def fit(self, X, y):\n",
    "        self.w = np.ones(X.shape[0]) / X.shape[0]  # Weights on data\n",
    "        self.a = np.zeros(self.n)  # Weights on decision trees\n",
    "        # TODO implement function\n",
    "        return self\n",
    "\n",
    "    def predict(self, X):\n",
    "        # TODO implement function\n",
    "        pass"
   ]
  },
  {
   "cell_type": "code",
   "execution_count": 28,
   "metadata": {
    "collapsed": true
   },
   "outputs": [],
   "source": [
    "def preprocess(data, fill_mode=True, min_freq=10, onehot_cols=[]):\n",
    "    # fill_mode = False\n",
    "\n",
    "    # Temporarily assign -1 to missing data\n",
    "    data[data == b''] = '-1'\n",
    "\n",
    "    # Hash the columns (used for handling strings)\n",
    "    onehot_encoding = []\n",
    "    onehot_features = []\n",
    "    for col in onehot_cols:\n",
    "        counter = Counter(data[:, col])\n",
    "        for term in counter.most_common():\n",
    "            if term[0] == b'-1':\n",
    "                continue\n",
    "            if term[-1] <= min_freq:\n",
    "                break\n",
    "            onehot_features.append('col=' + str(col) + ' val=' + str(term[0]))\n",
    "            onehot_encoding.append((data[:, col] == term[0]).astype(np.float))\n",
    "        data[:, col] = '0'\n",
    "    onehot_encoding = np.array(onehot_encoding).T\n",
    "    data = np.hstack([np.array(data, dtype=np.float), np.array(onehot_encoding)])\n",
    "\n",
    "    # Replace missing data with the mode value. We use the mode instead of\n",
    "    # the mean or median because this makes more sense for categorical\n",
    "    # features such as gender or cabin type, which are not ordered.\n",
    "    if fill_mode:\n",
    "        for i in range(data.shape[-1]):\n",
    "            mode = stats.mode(data[((data[:, i] < -1 - eps) +\n",
    "                                    (data[:, i] > -1 + eps))][:, i]).mode[0]\n",
    "            data[(data[:, i] > -1 - eps) * (data[:, i] < -1 + eps)][:, i] = mode\n",
    "\n",
    "    return data, onehot_features\n"
   ]
  },
  {
   "cell_type": "code",
   "execution_count": 29,
   "metadata": {
    "collapsed": true
   },
   "outputs": [],
   "source": [
    "\n",
    "def evaluate(clf):\n",
    "    print(\"Cross validation\", sklearn.model_selection.cross_val_score(clf, X, y))\n",
    "    if hasattr(clf, \"decision_trees\"):\n",
    "        counter = Counter([t.tree_.feature[0] for t in clf.decision_trees])\n",
    "        first_splits = [(features[term[0]], term[1]) for term in counter.most_common()]\n",
    "        print(\"First splits\", first_splits)"
   ]
  },
  {
   "cell_type": "code",
   "execution_count": 403,
   "metadata": {},
   "outputs": [
    {
     "data": {
      "text/plain": [
       "array([[b'survived', b'pclass', b'sex', ..., b'fare', b'cabin', b'embarked'],\n",
       "       [b'0', b'3', b'male', ..., b'8.05', b'', b'S'],\n",
       "       [b'0', b'1', b'male', ..., b'135.6333', b'', b'C'],\n",
       "       ..., \n",
       "       [b'0', b'2', b'male', ..., b'26', b'', b'S'],\n",
       "       [b'0', b'3', b'female', ..., b'39.6875', b'', b'S'],\n",
       "       [b'0', b'2', b'male', ..., b'26', b'', b'S']],\n",
       "      dtype='|S18')"
      ]
     },
     "execution_count": 403,
     "metadata": {},
     "output_type": "execute_result"
    }
   ],
   "source": [
    "titanic_train = genfromtxt('data/titanic_training.csv', delimiter=',', dtype=None)\n",
    "titanic_train"
   ]
  },
  {
   "cell_type": "code",
   "execution_count": 404,
   "metadata": {
    "collapsed": true
   },
   "outputs": [],
   "source": [
    "y = titanic_train[1:, 0]\n",
    "labeled_idx = np.where(y != b'')[0]\n",
    "y = np.array(y[labeled_idx], dtype=np.int)\n",
    "X, onehot_features = preprocess(titanic_train[1:, 1:], onehot_cols=[1, 5, 7, 8])\n",
    "X = X[labeled_idx, :]"
   ]
  },
  {
   "cell_type": "code",
   "execution_count": 405,
   "metadata": {},
   "outputs": [
    {
     "data": {
      "text/plain": [
       "[\"col=1 val=b'male'\",\n",
       " \"col=1 val=b'female'\",\n",
       " \"col=8 val=b'S'\",\n",
       " \"col=8 val=b'C'\",\n",
       " \"col=8 val=b'Q'\"]"
      ]
     },
     "execution_count": 405,
     "metadata": {},
     "output_type": "execute_result"
    }
   ],
   "source": [
    "onehot_features\n",
    "#onehot_features"
   ]
  },
  {
   "cell_type": "code",
   "execution_count": 406,
   "metadata": {},
   "outputs": [
    {
     "data": {
      "text/html": [
       "<div>\n",
       "<style>\n",
       "    .dataframe thead tr:only-child th {\n",
       "        text-align: right;\n",
       "    }\n",
       "\n",
       "    .dataframe thead th {\n",
       "        text-align: left;\n",
       "    }\n",
       "\n",
       "    .dataframe tbody tr th {\n",
       "        vertical-align: top;\n",
       "    }\n",
       "</style>\n",
       "<table border=\"1\" class=\"dataframe\">\n",
       "  <thead>\n",
       "    <tr style=\"text-align: right;\">\n",
       "      <th></th>\n",
       "      <th>pclass</th>\n",
       "      <th>age</th>\n",
       "      <th>sibsp</th>\n",
       "      <th>parch</th>\n",
       "      <th>fare</th>\n",
       "      <th>cabin</th>\n",
       "      <th>embark</th>\n",
       "      <th>sex=male</th>\n",
       "      <th>sex=female</th>\n",
       "      <th>embark=S</th>\n",
       "      <th>embark=C</th>\n",
       "      <th>embark=Q</th>\n",
       "    </tr>\n",
       "  </thead>\n",
       "  <tbody>\n",
       "    <tr>\n",
       "      <th>0</th>\n",
       "      <td>3.0</td>\n",
       "      <td>-1.0</td>\n",
       "      <td>0.0</td>\n",
       "      <td>0.0</td>\n",
       "      <td>8.0500</td>\n",
       "      <td>0.0</td>\n",
       "      <td>0.0</td>\n",
       "      <td>1.0</td>\n",
       "      <td>0.0</td>\n",
       "      <td>1.0</td>\n",
       "      <td>0.0</td>\n",
       "      <td>0.0</td>\n",
       "    </tr>\n",
       "    <tr>\n",
       "      <th>1</th>\n",
       "      <td>1.0</td>\n",
       "      <td>22.0</td>\n",
       "      <td>0.0</td>\n",
       "      <td>0.0</td>\n",
       "      <td>135.6333</td>\n",
       "      <td>0.0</td>\n",
       "      <td>0.0</td>\n",
       "      <td>1.0</td>\n",
       "      <td>0.0</td>\n",
       "      <td>0.0</td>\n",
       "      <td>1.0</td>\n",
       "      <td>0.0</td>\n",
       "    </tr>\n",
       "    <tr>\n",
       "      <th>2</th>\n",
       "      <td>2.0</td>\n",
       "      <td>23.0</td>\n",
       "      <td>0.0</td>\n",
       "      <td>0.0</td>\n",
       "      <td>15.0458</td>\n",
       "      <td>0.0</td>\n",
       "      <td>0.0</td>\n",
       "      <td>1.0</td>\n",
       "      <td>0.0</td>\n",
       "      <td>0.0</td>\n",
       "      <td>1.0</td>\n",
       "      <td>0.0</td>\n",
       "    </tr>\n",
       "    <tr>\n",
       "      <th>3</th>\n",
       "      <td>2.0</td>\n",
       "      <td>42.0</td>\n",
       "      <td>0.0</td>\n",
       "      <td>0.0</td>\n",
       "      <td>13.0000</td>\n",
       "      <td>0.0</td>\n",
       "      <td>0.0</td>\n",
       "      <td>1.0</td>\n",
       "      <td>0.0</td>\n",
       "      <td>1.0</td>\n",
       "      <td>0.0</td>\n",
       "      <td>0.0</td>\n",
       "    </tr>\n",
       "    <tr>\n",
       "      <th>4</th>\n",
       "      <td>3.0</td>\n",
       "      <td>20.0</td>\n",
       "      <td>0.0</td>\n",
       "      <td>0.0</td>\n",
       "      <td>9.8458</td>\n",
       "      <td>0.0</td>\n",
       "      <td>0.0</td>\n",
       "      <td>1.0</td>\n",
       "      <td>0.0</td>\n",
       "      <td>1.0</td>\n",
       "      <td>0.0</td>\n",
       "      <td>0.0</td>\n",
       "    </tr>\n",
       "  </tbody>\n",
       "</table>\n",
       "</div>"
      ],
      "text/plain": [
       "   pclass   age  sibsp  parch      fare  cabin  embark  sex=male  sex=female  \\\n",
       "0     3.0  -1.0    0.0    0.0    8.0500    0.0     0.0       1.0         0.0   \n",
       "1     1.0  22.0    0.0    0.0  135.6333    0.0     0.0       1.0         0.0   \n",
       "2     2.0  23.0    0.0    0.0   15.0458    0.0     0.0       1.0         0.0   \n",
       "3     2.0  42.0    0.0    0.0   13.0000    0.0     0.0       1.0         0.0   \n",
       "4     3.0  20.0    0.0    0.0    9.8458    0.0     0.0       1.0         0.0   \n",
       "\n",
       "   embark=S  embark=C  embark=Q  \n",
       "0       1.0       0.0       0.0  \n",
       "1       0.0       1.0       0.0  \n",
       "2       0.0       1.0       0.0  \n",
       "3       1.0       0.0       0.0  \n",
       "4       1.0       0.0       0.0  "
      ]
     },
     "execution_count": 406,
     "metadata": {},
     "output_type": "execute_result"
    }
   ],
   "source": [
    "titanic_final=pd.DataFrame(X,columns=['pclass','sex','age', 'sibsp','parch','ticket','fare','cabin','embark','sex=male','sex=female',\n",
    "                       'embark=S','embark=C','embark=Q'])\n",
    "titanic_final=titanic_final.drop(['sex', 'ticket'],axis=1)\n",
    "titanic_final.head()"
   ]
  },
  {
   "cell_type": "markdown",
   "metadata": {},
   "source": [
    "## 3.3 Descripe implementation details"
   ]
  },
  {
   "cell_type": "markdown",
   "metadata": {},
   "source": [
    "#### 1. How did you deal with categorical features and missing values?"
   ]
  },
  {
   "cell_type": "markdown",
   "metadata": {
    "collapsed": true
   },
   "source": [
    "I Replace missing data with the mode value because this makes more sense for categorical\n",
    "features such as gender or cabin type, which are not ordered.\n",
    "For categorical features, I use one-hot encoding and use indicators for each category."
   ]
  },
  {
   "cell_type": "markdown",
   "metadata": {},
   "source": [
    "#### 2. What was your stopping criterion?"
   ]
  },
  {
   "cell_type": "markdown",
   "metadata": {
    "collapsed": true
   },
   "source": [
    "I use max depth stopping criterion and tunning the best max for each tree. "
   ]
  },
  {
   "cell_type": "markdown",
   "metadata": {},
   "source": [
    "#### 3. How did you implement random forests?"
   ]
  },
  {
   "cell_type": "markdown",
   "metadata": {
    "collapsed": true
   },
   "source": [
    "My random forest implementation inherits the bagged trees which apply same learning alg \n",
    "on many random subsamples of one training set. Built upon this, random forest sample some\n",
    "features to use for each tree. Implementation of random forest are based on fit and segmenter methods of DecisionTree class and and is improved with sampling points and features at same time. The final predictions are the means of each tree."
   ]
  },
  {
   "cell_type": "markdown",
   "metadata": {},
   "source": [
    "#### 4. Did you do anything special to speed up training?"
   ]
  },
  {
   "cell_type": "markdown",
   "metadata": {
    "collapsed": true
   },
   "source": [
    "I tune to hyperparameters such as depth and max_features using cross validation, \n",
    "so when fit a tree, I don't have to use every features. \n",
    "Also this helps with prevent overfitting and reduce the number of time spent and \n",
    "prevent overfitting the tree. "
   ]
  },
  {
   "cell_type": "markdown",
   "metadata": {},
   "source": [
    "#### 5. Anything else cool you implemented?"
   ]
  },
  {
   "cell_type": "markdown",
   "metadata": {
    "collapsed": true
   },
   "source": [
    "I include a repr function in decision tree to visualize the tree, so it helps me to \n",
    "understand the tree better, also help with debugging."
   ]
  },
  {
   "cell_type": "code",
   "execution_count": null,
   "metadata": {
    "collapsed": true
   },
   "outputs": [],
   "source": []
  },
  {
   "cell_type": "markdown",
   "metadata": {},
   "source": [
    "## 3.4 Performance Evaluation"
   ]
  },
  {
   "cell_type": "code",
   "execution_count": 407,
   "metadata": {
    "collapsed": true
   },
   "outputs": [],
   "source": [
    "from sklearn.metrics import accuracy_score"
   ]
  },
  {
   "cell_type": "markdown",
   "metadata": {},
   "source": [
    "### Titanic Dataset"
   ]
  },
  {
   "cell_type": "code",
   "execution_count": 408,
   "metadata": {
    "scrolled": true
   },
   "outputs": [
    {
     "data": {
      "text/html": [
       "<div>\n",
       "<style>\n",
       "    .dataframe thead tr:only-child th {\n",
       "        text-align: right;\n",
       "    }\n",
       "\n",
       "    .dataframe thead th {\n",
       "        text-align: left;\n",
       "    }\n",
       "\n",
       "    .dataframe tbody tr th {\n",
       "        vertical-align: top;\n",
       "    }\n",
       "</style>\n",
       "<table border=\"1\" class=\"dataframe\">\n",
       "  <thead>\n",
       "    <tr style=\"text-align: right;\">\n",
       "      <th></th>\n",
       "      <th>pclass</th>\n",
       "      <th>age</th>\n",
       "      <th>sibsp</th>\n",
       "      <th>parch</th>\n",
       "      <th>fare</th>\n",
       "      <th>cabin</th>\n",
       "      <th>embark</th>\n",
       "      <th>sex=male</th>\n",
       "      <th>sex=female</th>\n",
       "      <th>embark=S</th>\n",
       "      <th>embark=C</th>\n",
       "      <th>embark=Q</th>\n",
       "      <th>y</th>\n",
       "    </tr>\n",
       "  </thead>\n",
       "  <tbody>\n",
       "    <tr>\n",
       "      <th>0</th>\n",
       "      <td>3.0</td>\n",
       "      <td>-1.0</td>\n",
       "      <td>0.0</td>\n",
       "      <td>0.0</td>\n",
       "      <td>8.0500</td>\n",
       "      <td>0.0</td>\n",
       "      <td>0.0</td>\n",
       "      <td>1.0</td>\n",
       "      <td>0.0</td>\n",
       "      <td>1.0</td>\n",
       "      <td>0.0</td>\n",
       "      <td>0.0</td>\n",
       "      <td>0</td>\n",
       "    </tr>\n",
       "    <tr>\n",
       "      <th>1</th>\n",
       "      <td>1.0</td>\n",
       "      <td>22.0</td>\n",
       "      <td>0.0</td>\n",
       "      <td>0.0</td>\n",
       "      <td>135.6333</td>\n",
       "      <td>0.0</td>\n",
       "      <td>0.0</td>\n",
       "      <td>1.0</td>\n",
       "      <td>0.0</td>\n",
       "      <td>0.0</td>\n",
       "      <td>1.0</td>\n",
       "      <td>0.0</td>\n",
       "      <td>0</td>\n",
       "    </tr>\n",
       "    <tr>\n",
       "      <th>2</th>\n",
       "      <td>2.0</td>\n",
       "      <td>23.0</td>\n",
       "      <td>0.0</td>\n",
       "      <td>0.0</td>\n",
       "      <td>15.0458</td>\n",
       "      <td>0.0</td>\n",
       "      <td>0.0</td>\n",
       "      <td>1.0</td>\n",
       "      <td>0.0</td>\n",
       "      <td>0.0</td>\n",
       "      <td>1.0</td>\n",
       "      <td>0.0</td>\n",
       "      <td>0</td>\n",
       "    </tr>\n",
       "    <tr>\n",
       "      <th>3</th>\n",
       "      <td>2.0</td>\n",
       "      <td>42.0</td>\n",
       "      <td>0.0</td>\n",
       "      <td>0.0</td>\n",
       "      <td>13.0000</td>\n",
       "      <td>0.0</td>\n",
       "      <td>0.0</td>\n",
       "      <td>1.0</td>\n",
       "      <td>0.0</td>\n",
       "      <td>1.0</td>\n",
       "      <td>0.0</td>\n",
       "      <td>0.0</td>\n",
       "      <td>0</td>\n",
       "    </tr>\n",
       "    <tr>\n",
       "      <th>4</th>\n",
       "      <td>3.0</td>\n",
       "      <td>20.0</td>\n",
       "      <td>0.0</td>\n",
       "      <td>0.0</td>\n",
       "      <td>9.8458</td>\n",
       "      <td>0.0</td>\n",
       "      <td>0.0</td>\n",
       "      <td>1.0</td>\n",
       "      <td>0.0</td>\n",
       "      <td>1.0</td>\n",
       "      <td>0.0</td>\n",
       "      <td>0.0</td>\n",
       "      <td>0</td>\n",
       "    </tr>\n",
       "  </tbody>\n",
       "</table>\n",
       "</div>"
      ],
      "text/plain": [
       "   pclass   age  sibsp  parch      fare  cabin  embark  sex=male  sex=female  \\\n",
       "0     3.0  -1.0    0.0    0.0    8.0500    0.0     0.0       1.0         0.0   \n",
       "1     1.0  22.0    0.0    0.0  135.6333    0.0     0.0       1.0         0.0   \n",
       "2     2.0  23.0    0.0    0.0   15.0458    0.0     0.0       1.0         0.0   \n",
       "3     2.0  42.0    0.0    0.0   13.0000    0.0     0.0       1.0         0.0   \n",
       "4     3.0  20.0    0.0    0.0    9.8458    0.0     0.0       1.0         0.0   \n",
       "\n",
       "   embark=S  embark=C  embark=Q  y  \n",
       "0       1.0       0.0       0.0  0  \n",
       "1       0.0       1.0       0.0  0  \n",
       "2       0.0       1.0       0.0  0  \n",
       "3       1.0       0.0       0.0  0  \n",
       "4       1.0       0.0       0.0  0  "
      ]
     },
     "execution_count": 408,
     "metadata": {},
     "output_type": "execute_result"
    }
   ],
   "source": [
    "titanic_final['y']=y\n",
    "titanic_final.head()"
   ]
  },
  {
   "cell_type": "code",
   "execution_count": 409,
   "metadata": {
    "collapsed": true
   },
   "outputs": [],
   "source": [
    "titanic_train=titanic_final.sample(frac=5/6,random_state=200)\n",
    "titanic_validation=titanic_final.drop(titanic_train.index)"
   ]
  },
  {
   "cell_type": "code",
   "execution_count": 423,
   "metadata": {},
   "outputs": [
    {
     "name": "stdout",
     "output_type": "stream",
     "text": [
      "The training accuracy of decision tree 0.794471153846\n"
     ]
    }
   ],
   "source": [
    "dt=DecisionTree(max_depth=3, feature_labels=list(titanic_train))\n",
    "dt.fit(np.array(titanic_train.drop(['y'],axis=1)),np.array(titanic_train['y']))\n",
    "dt_predictions = dt.predict(np.array(titanic_train.drop(['y'],axis=1)))\n",
    "print('The training accuracy of decision tree', accuracy_score(dt_predictions,np.array(titanic_train['y'])))"
   ]
  },
  {
   "cell_type": "code",
   "execution_count": 424,
   "metadata": {},
   "outputs": [
    {
     "name": "stdout",
     "output_type": "stream",
     "text": [
      "The validation accuracy of decision tree 0.808383233533\n"
     ]
    }
   ],
   "source": [
    "dt_predictions = dt.predict(np.array(titanic_validation.drop(['y'],axis=1)))\n",
    "print('The validation accuracy of decision tree', accuracy_score(dt_predictions,np.array(titanic_validation['y'])))"
   ]
  },
  {
   "cell_type": "code",
   "execution_count": 425,
   "metadata": {},
   "outputs": [
    {
     "name": "stdout",
     "output_type": "stream",
     "text": [
      "The training accuracy of random forest 0.819711538462\n"
     ]
    }
   ],
   "source": [
    "rf=DecisionTree(max_depth=5, num_features=7,feature_labels=list(titanic_train),random_forest=True)\n",
    "rf.fit(np.array(titanic_train.drop(['y'],axis=1)),np.array(titanic_train['y']))\n",
    "rf_predictions = rf.predict(np.array(titanic_train.drop(['y'],axis=1)))\n",
    "print('The training accuracy of random forest', accuracy_score(rf_predictions,np.array(titanic_train['y'])))"
   ]
  },
  {
   "cell_type": "code",
   "execution_count": 426,
   "metadata": {},
   "outputs": [
    {
     "name": "stdout",
     "output_type": "stream",
     "text": [
      "The validation accuracy of random forest 0.802395209581\n"
     ]
    }
   ],
   "source": [
    "rf_predictions = rf.predict(np.array(titanic_validation.drop(['y'],axis=1)))\n",
    "print('The validation accuracy of random forest', accuracy_score(rf_predictions,np.array(titanic_validation['y'])))"
   ]
  },
  {
   "cell_type": "code",
   "execution_count": 184,
   "metadata": {},
   "outputs": [
    {
     "name": "stdout",
     "output_type": "stream",
     "text": [
      "0.796407185629\n",
      "0.802395209581\n",
      "0.74251497006\n",
      "0.736526946108\n",
      "0.712574850299\n",
      "0.718562874251\n",
      "0.718562874251\n",
      "0.718562874251\n",
      "0.718562874251\n"
     ]
    }
   ],
   "source": [
    "validation_accuracies=[]\n",
    "for depth in [1,5,10,15, 20,25,30,35,40]:\n",
    "    rt=DecisionTree(max_depth=depth, num_features=7,random_forest=True)\n",
    "    rt.fit(np.array(titanic_train.drop(['y'],axis=1)),np.array(titanic_train['y']))\n",
    "    rt_predictions = rt.predict(np.array(titanic_validation.drop(['y'],axis=1)))\n",
    "    accuracy=accuracy_score(rt_predictions,np.array(titanic_validation['y']))\n",
    "    print(accuracy)\n",
    "    validation_accuracies.append(accuracy)"
   ]
  },
  {
   "cell_type": "code",
   "execution_count": 187,
   "metadata": {},
   "outputs": [
    {
     "data": {
      "image/png": "[encoded data removed]",
      "text/plain": [
       "<matplotlib.figure.Figure at 0x1a1178b1d0>"
      ]
     },
     "metadata": {},
     "output_type": "display_data"
    }
   ],
   "source": [
    "import matplotlib.pyplot as plt \n",
    "plt.plot([1,5,10,15, 20,25,30,35,40],validation_accuracies)\n",
    "plt.xlabel('depth')\n",
    "plt.ylabel('validation accuracy')\n",
    "plt.title('Titanic validation accuracy of different depths')\n",
    "plt.show()"
   ]
  },
  {
   "cell_type": "code",
   "execution_count": 204,
   "metadata": {},
   "outputs": [
    {
     "data": {
      "text/html": [
       "<div>\n",
       "<style>\n",
       "    .dataframe thead tr:only-child th {\n",
       "        text-align: right;\n",
       "    }\n",
       "\n",
       "    .dataframe thead th {\n",
       "        text-align: left;\n",
       "    }\n",
       "\n",
       "    .dataframe tbody tr th {\n",
       "        vertical-align: top;\n",
       "    }\n",
       "</style>\n",
       "<table border=\"1\" class=\"dataframe\">\n",
       "  <thead>\n",
       "    <tr style=\"text-align: right;\">\n",
       "      <th></th>\n",
       "      <th>pclass</th>\n",
       "      <th>age</th>\n",
       "      <th>sibsp</th>\n",
       "      <th>parch</th>\n",
       "      <th>fare</th>\n",
       "      <th>cabin</th>\n",
       "      <th>embark</th>\n",
       "      <th>sex=male</th>\n",
       "      <th>sex=female</th>\n",
       "      <th>embark=S</th>\n",
       "      <th>embark=C</th>\n",
       "      <th>embark=Q</th>\n",
       "    </tr>\n",
       "  </thead>\n",
       "  <tbody>\n",
       "    <tr>\n",
       "      <th>0</th>\n",
       "      <td>1.0</td>\n",
       "      <td>24.0</td>\n",
       "      <td>0.0</td>\n",
       "      <td>0.0</td>\n",
       "      <td>69.3000</td>\n",
       "      <td>0.0</td>\n",
       "      <td>0.0</td>\n",
       "      <td>0.0</td>\n",
       "      <td>1.0</td>\n",
       "      <td>0.0</td>\n",
       "      <td>1.0</td>\n",
       "      <td>0.0</td>\n",
       "    </tr>\n",
       "    <tr>\n",
       "      <th>1</th>\n",
       "      <td>1.0</td>\n",
       "      <td>44.0</td>\n",
       "      <td>0.0</td>\n",
       "      <td>1.0</td>\n",
       "      <td>57.9792</td>\n",
       "      <td>0.0</td>\n",
       "      <td>0.0</td>\n",
       "      <td>0.0</td>\n",
       "      <td>1.0</td>\n",
       "      <td>0.0</td>\n",
       "      <td>1.0</td>\n",
       "      <td>0.0</td>\n",
       "    </tr>\n",
       "    <tr>\n",
       "      <th>2</th>\n",
       "      <td>3.0</td>\n",
       "      <td>1.0</td>\n",
       "      <td>5.0</td>\n",
       "      <td>2.0</td>\n",
       "      <td>46.9000</td>\n",
       "      <td>0.0</td>\n",
       "      <td>0.0</td>\n",
       "      <td>1.0</td>\n",
       "      <td>0.0</td>\n",
       "      <td>1.0</td>\n",
       "      <td>0.0</td>\n",
       "      <td>0.0</td>\n",
       "    </tr>\n",
       "    <tr>\n",
       "      <th>3</th>\n",
       "      <td>3.0</td>\n",
       "      <td>29.0</td>\n",
       "      <td>0.0</td>\n",
       "      <td>0.0</td>\n",
       "      <td>7.8750</td>\n",
       "      <td>0.0</td>\n",
       "      <td>0.0</td>\n",
       "      <td>1.0</td>\n",
       "      <td>0.0</td>\n",
       "      <td>1.0</td>\n",
       "      <td>0.0</td>\n",
       "      <td>0.0</td>\n",
       "    </tr>\n",
       "    <tr>\n",
       "      <th>4</th>\n",
       "      <td>2.0</td>\n",
       "      <td>30.0</td>\n",
       "      <td>0.0</td>\n",
       "      <td>0.0</td>\n",
       "      <td>13.0000</td>\n",
       "      <td>0.0</td>\n",
       "      <td>0.0</td>\n",
       "      <td>1.0</td>\n",
       "      <td>0.0</td>\n",
       "      <td>1.0</td>\n",
       "      <td>0.0</td>\n",
       "      <td>0.0</td>\n",
       "    </tr>\n",
       "  </tbody>\n",
       "</table>\n",
       "</div>"
      ],
      "text/plain": [
       "   pclass   age  sibsp  parch     fare  cabin  embark  sex=male  sex=female  \\\n",
       "0     1.0  24.0    0.0    0.0  69.3000    0.0     0.0       0.0         1.0   \n",
       "1     1.0  44.0    0.0    1.0  57.9792    0.0     0.0       0.0         1.0   \n",
       "2     3.0   1.0    5.0    2.0  46.9000    0.0     0.0       1.0         0.0   \n",
       "3     3.0  29.0    0.0    0.0   7.8750    0.0     0.0       1.0         0.0   \n",
       "4     2.0  30.0    0.0    0.0  13.0000    0.0     0.0       1.0         0.0   \n",
       "\n",
       "   embark=S  embark=C  embark=Q  \n",
       "0       0.0       1.0       0.0  \n",
       "1       0.0       1.0       0.0  \n",
       "2       1.0       0.0       0.0  \n",
       "3       1.0       0.0       0.0  \n",
       "4       1.0       0.0       0.0  "
      ]
     },
     "execution_count": 204,
     "metadata": {},
     "output_type": "execute_result"
    }
   ],
   "source": [
    "titanic_test = genfromtxt('titanic_testing_data.csv', delimiter=',', dtype=None)\n",
    "\n",
    "X, onehot_features = preprocess(titanic_test[1:, :], onehot_cols=[1, 5, 7, 8])\n",
    "\n",
    "titanic_test=pd.DataFrame(X,columns=['pclass','sex','age', 'sibsp','parch','ticket','fare','cabin','embark','sex=male','sex=female',\n",
    "                       'embark=S','embark=C','embark=Q'])\n",
    "titanic_test=titanic_test.drop(['sex', 'ticket'],axis=1)\n",
    "titanic_test.head()"
   ]
  },
  {
   "cell_type": "code",
   "execution_count": 214,
   "metadata": {
    "collapsed": true
   },
   "outputs": [],
   "source": [
    "rf=DecisionTree(max_depth=5, num_features=7,feature_labels=list(titanic_train),random_forest=True)\n",
    "rf.fit(np.array(titanic_train.drop(['y'],axis=1)),np.array(titanic_train['y']))\n",
    "rf_predictions = rf.predict(np.array(titanic_test))"
   ]
  },
  {
   "cell_type": "code",
   "execution_count": 215,
   "metadata": {
    "collapsed": true
   },
   "outputs": [],
   "source": [
    "def results_to_csv(y_test):\n",
    "    y_test = y_test.astype(int)\n",
    "    df = pd.DataFrame({'Category': y_test})\n",
    "    df.index += 1  # Ensures that the index starts at 1. \n",
    "    df.to_csv('submission.csv', index_label='Id')"
   ]
  },
  {
   "cell_type": "code",
   "execution_count": 216,
   "metadata": {
    "collapsed": true
   },
   "outputs": [],
   "source": [
    "results_to_csv(rf_predictions)"
   ]
  },
  {
   "cell_type": "code",
   "execution_count": null,
   "metadata": {
    "collapsed": true
   },
   "outputs": [],
   "source": []
  },
  {
   "cell_type": "code",
   "execution_count": null,
   "metadata": {
    "collapsed": true
   },
   "outputs": [],
   "source": []
  },
  {
   "cell_type": "code",
   "execution_count": null,
   "metadata": {
    "collapsed": true
   },
   "outputs": [],
   "source": []
  },
  {
   "cell_type": "markdown",
   "metadata": {},
   "source": [
    "### Spam Dataset"
   ]
  },
  {
   "cell_type": "code",
   "execution_count": 379,
   "metadata": {
    "collapsed": true
   },
   "outputs": [],
   "source": [
    "spam_train=spam_training.sample(frac=5/6,random_state=200)\n",
    "spam_validation=spam_training.drop(spam_train.index)"
   ]
  },
  {
   "cell_type": "code",
   "execution_count": 380,
   "metadata": {},
   "outputs": [
    {
     "data": {
      "text/html": [
       "<div>\n",
       "<style>\n",
       "    .dataframe thead tr:only-child th {\n",
       "        text-align: right;\n",
       "    }\n",
       "\n",
       "    .dataframe thead th {\n",
       "        text-align: left;\n",
       "    }\n",
       "\n",
       "    .dataframe tbody tr th {\n",
       "        vertical-align: top;\n",
       "    }\n",
       "</style>\n",
       "<table border=\"1\" class=\"dataframe\">\n",
       "  <thead>\n",
       "    <tr style=\"text-align: right;\">\n",
       "      <th></th>\n",
       "      <th>freq_pain_feature</th>\n",
       "      <th>freq_private_feature</th>\n",
       "      <th>freq_bank_feature</th>\n",
       "      <th>freq_money_feature</th>\n",
       "      <th>freq_drug_feature</th>\n",
       "      <th>freq_spam_feature</th>\n",
       "      <th>freq_prescription_feature</th>\n",
       "      <th>freq_creative_feature</th>\n",
       "      <th>freq_height_feature</th>\n",
       "      <th>freq_featured_feature</th>\n",
       "      <th>...</th>\n",
       "      <th>freq_record_feature</th>\n",
       "      <th>freq_out_feature</th>\n",
       "      <th>freq_semicolon_feature</th>\n",
       "      <th>freq_dollar_feature</th>\n",
       "      <th>freq_sharp_feature</th>\n",
       "      <th>freq_exclamation_feature</th>\n",
       "      <th>freq_para_feature</th>\n",
       "      <th>freq_bracket_feature</th>\n",
       "      <th>freq_and_feature</th>\n",
       "      <th>training_labels</th>\n",
       "    </tr>\n",
       "  </thead>\n",
       "  <tbody>\n",
       "    <tr>\n",
       "      <th>2170</th>\n",
       "      <td>0.0</td>\n",
       "      <td>0.0</td>\n",
       "      <td>0.0</td>\n",
       "      <td>0.0</td>\n",
       "      <td>0.0</td>\n",
       "      <td>0.0</td>\n",
       "      <td>0.0</td>\n",
       "      <td>0.0</td>\n",
       "      <td>0.0</td>\n",
       "      <td>0.0</td>\n",
       "      <td>...</td>\n",
       "      <td>0.0</td>\n",
       "      <td>0.0</td>\n",
       "      <td>0.0</td>\n",
       "      <td>0.0</td>\n",
       "      <td>0.0</td>\n",
       "      <td>0.0</td>\n",
       "      <td>0.0</td>\n",
       "      <td>0.0</td>\n",
       "      <td>2.0</td>\n",
       "      <td>0</td>\n",
       "    </tr>\n",
       "    <tr>\n",
       "      <th>729</th>\n",
       "      <td>0.0</td>\n",
       "      <td>0.0</td>\n",
       "      <td>0.0</td>\n",
       "      <td>0.0</td>\n",
       "      <td>0.0</td>\n",
       "      <td>0.0</td>\n",
       "      <td>0.0</td>\n",
       "      <td>0.0</td>\n",
       "      <td>0.0</td>\n",
       "      <td>0.0</td>\n",
       "      <td>...</td>\n",
       "      <td>0.0</td>\n",
       "      <td>0.0</td>\n",
       "      <td>0.0</td>\n",
       "      <td>0.0</td>\n",
       "      <td>0.0</td>\n",
       "      <td>0.0</td>\n",
       "      <td>0.0</td>\n",
       "      <td>0.0</td>\n",
       "      <td>0.0</td>\n",
       "      <td>1</td>\n",
       "    </tr>\n",
       "    <tr>\n",
       "      <th>2481</th>\n",
       "      <td>0.0</td>\n",
       "      <td>0.0</td>\n",
       "      <td>0.0</td>\n",
       "      <td>0.0</td>\n",
       "      <td>0.0</td>\n",
       "      <td>0.0</td>\n",
       "      <td>0.0</td>\n",
       "      <td>0.0</td>\n",
       "      <td>0.0</td>\n",
       "      <td>0.0</td>\n",
       "      <td>...</td>\n",
       "      <td>0.0</td>\n",
       "      <td>0.0</td>\n",
       "      <td>0.0</td>\n",
       "      <td>0.0</td>\n",
       "      <td>0.0</td>\n",
       "      <td>0.0</td>\n",
       "      <td>0.0</td>\n",
       "      <td>0.0</td>\n",
       "      <td>0.0</td>\n",
       "      <td>0</td>\n",
       "    </tr>\n",
       "    <tr>\n",
       "      <th>3164</th>\n",
       "      <td>0.0</td>\n",
       "      <td>0.0</td>\n",
       "      <td>0.0</td>\n",
       "      <td>0.0</td>\n",
       "      <td>0.0</td>\n",
       "      <td>0.0</td>\n",
       "      <td>0.0</td>\n",
       "      <td>0.0</td>\n",
       "      <td>0.0</td>\n",
       "      <td>0.0</td>\n",
       "      <td>...</td>\n",
       "      <td>0.0</td>\n",
       "      <td>0.0</td>\n",
       "      <td>0.0</td>\n",
       "      <td>0.0</td>\n",
       "      <td>1.0</td>\n",
       "      <td>0.0</td>\n",
       "      <td>4.0</td>\n",
       "      <td>0.0</td>\n",
       "      <td>0.0</td>\n",
       "      <td>0</td>\n",
       "    </tr>\n",
       "    <tr>\n",
       "      <th>2798</th>\n",
       "      <td>0.0</td>\n",
       "      <td>0.0</td>\n",
       "      <td>0.0</td>\n",
       "      <td>0.0</td>\n",
       "      <td>0.0</td>\n",
       "      <td>0.0</td>\n",
       "      <td>0.0</td>\n",
       "      <td>0.0</td>\n",
       "      <td>0.0</td>\n",
       "      <td>0.0</td>\n",
       "      <td>...</td>\n",
       "      <td>0.0</td>\n",
       "      <td>0.0</td>\n",
       "      <td>0.0</td>\n",
       "      <td>0.0</td>\n",
       "      <td>0.0</td>\n",
       "      <td>1.0</td>\n",
       "      <td>0.0</td>\n",
       "      <td>0.0</td>\n",
       "      <td>0.0</td>\n",
       "      <td>0</td>\n",
       "    </tr>\n",
       "  </tbody>\n",
       "</table>\n",
       "<p>5 rows × 33 columns</p>\n",
       "</div>"
      ],
      "text/plain": [
       "      freq_pain_feature          freq_private_feature       \\\n",
       "2170                        0.0                        0.0   \n",
       "729                         0.0                        0.0   \n",
       "2481                        0.0                        0.0   \n",
       "3164                        0.0                        0.0   \n",
       "2798                        0.0                        0.0   \n",
       "\n",
       "      freq_bank_feature          freq_money_feature         \\\n",
       "2170                        0.0                        0.0   \n",
       "729                         0.0                        0.0   \n",
       "2481                        0.0                        0.0   \n",
       "3164                        0.0                        0.0   \n",
       "2798                        0.0                        0.0   \n",
       "\n",
       "      freq_drug_feature          freq_spam_feature          \\\n",
       "2170                        0.0                        0.0   \n",
       "729                         0.0                        0.0   \n",
       "2481                        0.0                        0.0   \n",
       "3164                        0.0                        0.0   \n",
       "2798                        0.0                        0.0   \n",
       "\n",
       "      freq_prescription_feature  freq_creative_feature      \\\n",
       "2170                        0.0                        0.0   \n",
       "729                         0.0                        0.0   \n",
       "2481                        0.0                        0.0   \n",
       "3164                        0.0                        0.0   \n",
       "2798                        0.0                        0.0   \n",
       "\n",
       "      freq_height_feature        freq_featured_feature           ...         \\\n",
       "2170                        0.0                        0.0       ...          \n",
       "729                         0.0                        0.0       ...          \n",
       "2481                        0.0                        0.0       ...          \n",
       "3164                        0.0                        0.0       ...          \n",
       "2798                        0.0                        0.0       ...          \n",
       "\n",
       "      freq_record_feature        freq_out_feature           \\\n",
       "2170                        0.0                        0.0   \n",
       "729                         0.0                        0.0   \n",
       "2481                        0.0                        0.0   \n",
       "3164                        0.0                        0.0   \n",
       "2798                        0.0                        0.0   \n",
       "\n",
       "      freq_semicolon_feature     freq_dollar_feature        \\\n",
       "2170                        0.0                        0.0   \n",
       "729                         0.0                        0.0   \n",
       "2481                        0.0                        0.0   \n",
       "3164                        0.0                        0.0   \n",
       "2798                        0.0                        0.0   \n",
       "\n",
       "      freq_sharp_feature         freq_exclamation_feature   \\\n",
       "2170                        0.0                        0.0   \n",
       "729                         0.0                        0.0   \n",
       "2481                        0.0                        0.0   \n",
       "3164                        1.0                        0.0   \n",
       "2798                        0.0                        1.0   \n",
       "\n",
       "      freq_para_feature          freq_bracket_feature       \\\n",
       "2170                        0.0                        0.0   \n",
       "729                         0.0                        0.0   \n",
       "2481                        0.0                        0.0   \n",
       "3164                        4.0                        0.0   \n",
       "2798                        0.0                        0.0   \n",
       "\n",
       "      freq_and_feature           training_labels  \n",
       "2170                        2.0                0  \n",
       "729                         0.0                1  \n",
       "2481                        0.0                0  \n",
       "3164                        0.0                0  \n",
       "2798                        0.0                0  \n",
       "\n",
       "[5 rows x 33 columns]"
      ]
     },
     "execution_count": 380,
     "metadata": {},
     "output_type": "execute_result"
    }
   ],
   "source": [
    "spam_train.head()"
   ]
  },
  {
   "cell_type": "code",
   "execution_count": 427,
   "metadata": {},
   "outputs": [
    {
     "name": "stdout",
     "output_type": "stream",
     "text": [
      "The training accuracy of decision tree 0.797679814385\n"
     ]
    }
   ],
   "source": [
    "dt=DecisionTree(max_depth=3)\n",
    "dt.fit(np.array(spam_train.drop(['training_labels'],axis=1)),np.array(spam_train['training_labels']))\n",
    "dt_predictions = dt.predict(np.array(spam_train.drop(['training_labels'],axis=1)))\n",
    "print('The training accuracy of decision tree', accuracy_score(dt_predictions,np.array(spam_train['training_labels'])))\n"
   ]
  },
  {
   "cell_type": "code",
   "execution_count": 428,
   "metadata": {},
   "outputs": [
    {
     "name": "stdout",
     "output_type": "stream",
     "text": [
      "The validation accuracy of decision tree: 0.780742459397\n"
     ]
    }
   ],
   "source": [
    "dt_predictions = dt.predict(np.array(spam_validation.drop(['training_labels'],axis=1)))\n",
    "print('The validation accuracy of decision tree:', accuracy_score(dt_predictions,np.array(spam_validation['training_labels'])))"
   ]
  },
  {
   "cell_type": "code",
   "execution_count": 429,
   "metadata": {},
   "outputs": [
    {
     "name": "stdout",
     "output_type": "stream",
     "text": [
      "The training accuracy of random forest: 0.805800464037\n"
     ]
    }
   ],
   "source": [
    "rf=DecisionTree(max_depth=5, num_features=10,random_forest=True)\n",
    "rf.fit(np.array(spam_train.drop(['training_labels'],axis=1)),np.array(spam_train['training_labels']))\n",
    "rf_predictions = rf.predict(np.array(spam_train.drop(['training_labels'],axis=1)))\n",
    "print('The training accuracy of random forest:', accuracy_score(rf_predictions,np.array(spam_train['training_labels'])))"
   ]
  },
  {
   "cell_type": "code",
   "execution_count": 430,
   "metadata": {},
   "outputs": [
    {
     "name": "stdout",
     "output_type": "stream",
     "text": [
      "The validation accuracy of random forest: 0.788863109049\n"
     ]
    }
   ],
   "source": [
    "rf_predictions = rf.predict(np.array(spam_validation.drop(['training_labels'],axis=1)))\n",
    "print('The validation accuracy of random forest:', accuracy_score(rf_predictions,np.array(spam_validation['training_labels'])))"
   ]
  },
  {
   "cell_type": "code",
   "execution_count": null,
   "metadata": {
    "collapsed": true
   },
   "outputs": [],
   "source": []
  },
  {
   "cell_type": "code",
   "execution_count": 220,
   "metadata": {},
   "outputs": [
    {
     "name": "stdout",
     "output_type": "stream",
     "text": [
      "0.722437137331\n",
      "0.810444874275\n",
      "0.827852998066\n",
      "0.832688588008\n",
      "0.830754352031\n"
     ]
    }
   ],
   "source": [
    "validation_accuracies=[]\n",
    "for depth in [1,10, 20,30,40]:\n",
    "    rf=DecisionTree(max_depth=depth, num_features=8,random_forest=True)\n",
    "    rf.fit(np.array(spam_train.drop(['training_labels'],axis=1)),np.array(spam_train['training_labels']))\n",
    "    rf_predictions = rf.predict(np.array(spam_validation.drop(['training_labels'],axis=1)))\n",
    "    accuracy=accuracy_score(rf_predictions,np.array(spam_validation['training_labels']))\n",
    "    print(accuracy)\n",
    "    validation_accuracies.append(accuracy)"
   ]
  },
  {
   "cell_type": "code",
   "execution_count": 222,
   "metadata": {},
   "outputs": [
    {
     "data": {
      "image/png": "[encoded data removed]",
      "text/plain": [
       "<matplotlib.figure.Figure at 0x1a14ff2908>"
      ]
     },
     "metadata": {},
     "output_type": "display_data"
    }
   ],
   "source": [
    "plt.plot([1,10, 20,30,40],validation_accuracies)\n",
    "plt.xlabel('depth')\n",
    "plt.ylabel('validation accuracy')\n",
    "plt.title('Spam validation accuracy of different depths')\n",
    "plt.show()"
   ]
  },
  {
   "cell_type": "code",
   "execution_count": 233,
   "metadata": {
    "scrolled": false
   },
   "outputs": [
    {
     "data": {
      "text/html": [
       "<div>\n",
       "<style>\n",
       "    .dataframe thead tr:only-child th {\n",
       "        text-align: right;\n",
       "    }\n",
       "\n",
       "    .dataframe thead th {\n",
       "        text-align: left;\n",
       "    }\n",
       "\n",
       "    .dataframe tbody tr th {\n",
       "        vertical-align: top;\n",
       "    }\n",
       "</style>\n",
       "<table border=\"1\" class=\"dataframe\">\n",
       "  <thead>\n",
       "    <tr style=\"text-align: right;\">\n",
       "      <th></th>\n",
       "      <th>0</th>\n",
       "      <th>1</th>\n",
       "      <th>2</th>\n",
       "      <th>3</th>\n",
       "      <th>4</th>\n",
       "      <th>5</th>\n",
       "      <th>6</th>\n",
       "      <th>7</th>\n",
       "      <th>8</th>\n",
       "      <th>9</th>\n",
       "      <th>...</th>\n",
       "      <th>22</th>\n",
       "      <th>23</th>\n",
       "      <th>24</th>\n",
       "      <th>25</th>\n",
       "      <th>26</th>\n",
       "      <th>27</th>\n",
       "      <th>28</th>\n",
       "      <th>29</th>\n",
       "      <th>30</th>\n",
       "      <th>31</th>\n",
       "    </tr>\n",
       "  </thead>\n",
       "  <tbody>\n",
       "    <tr>\n",
       "      <th>0</th>\n",
       "      <td>0.0</td>\n",
       "      <td>0.0</td>\n",
       "      <td>0.0</td>\n",
       "      <td>0.0</td>\n",
       "      <td>0.0</td>\n",
       "      <td>0.0</td>\n",
       "      <td>0.0</td>\n",
       "      <td>0.0</td>\n",
       "      <td>0.0</td>\n",
       "      <td>0.0</td>\n",
       "      <td>...</td>\n",
       "      <td>0.0</td>\n",
       "      <td>0.0</td>\n",
       "      <td>0.0</td>\n",
       "      <td>0.0</td>\n",
       "      <td>0.0</td>\n",
       "      <td>0.0</td>\n",
       "      <td>0.0</td>\n",
       "      <td>0.0</td>\n",
       "      <td>0.0</td>\n",
       "      <td>0.0</td>\n",
       "    </tr>\n",
       "    <tr>\n",
       "      <th>1</th>\n",
       "      <td>0.0</td>\n",
       "      <td>0.0</td>\n",
       "      <td>0.0</td>\n",
       "      <td>0.0</td>\n",
       "      <td>0.0</td>\n",
       "      <td>0.0</td>\n",
       "      <td>0.0</td>\n",
       "      <td>0.0</td>\n",
       "      <td>0.0</td>\n",
       "      <td>0.0</td>\n",
       "      <td>...</td>\n",
       "      <td>0.0</td>\n",
       "      <td>0.0</td>\n",
       "      <td>0.0</td>\n",
       "      <td>0.0</td>\n",
       "      <td>0.0</td>\n",
       "      <td>0.0</td>\n",
       "      <td>3.0</td>\n",
       "      <td>3.0</td>\n",
       "      <td>0.0</td>\n",
       "      <td>0.0</td>\n",
       "    </tr>\n",
       "    <tr>\n",
       "      <th>2</th>\n",
       "      <td>0.0</td>\n",
       "      <td>0.0</td>\n",
       "      <td>0.0</td>\n",
       "      <td>0.0</td>\n",
       "      <td>0.0</td>\n",
       "      <td>0.0</td>\n",
       "      <td>0.0</td>\n",
       "      <td>0.0</td>\n",
       "      <td>0.0</td>\n",
       "      <td>0.0</td>\n",
       "      <td>...</td>\n",
       "      <td>0.0</td>\n",
       "      <td>0.0</td>\n",
       "      <td>0.0</td>\n",
       "      <td>0.0</td>\n",
       "      <td>0.0</td>\n",
       "      <td>0.0</td>\n",
       "      <td>0.0</td>\n",
       "      <td>0.0</td>\n",
       "      <td>0.0</td>\n",
       "      <td>0.0</td>\n",
       "    </tr>\n",
       "    <tr>\n",
       "      <th>3</th>\n",
       "      <td>0.0</td>\n",
       "      <td>0.0</td>\n",
       "      <td>0.0</td>\n",
       "      <td>0.0</td>\n",
       "      <td>0.0</td>\n",
       "      <td>0.0</td>\n",
       "      <td>0.0</td>\n",
       "      <td>0.0</td>\n",
       "      <td>0.0</td>\n",
       "      <td>0.0</td>\n",
       "      <td>...</td>\n",
       "      <td>0.0</td>\n",
       "      <td>0.0</td>\n",
       "      <td>0.0</td>\n",
       "      <td>0.0</td>\n",
       "      <td>0.0</td>\n",
       "      <td>1.0</td>\n",
       "      <td>0.0</td>\n",
       "      <td>0.0</td>\n",
       "      <td>0.0</td>\n",
       "      <td>1.0</td>\n",
       "    </tr>\n",
       "    <tr>\n",
       "      <th>4</th>\n",
       "      <td>0.0</td>\n",
       "      <td>0.0</td>\n",
       "      <td>0.0</td>\n",
       "      <td>0.0</td>\n",
       "      <td>0.0</td>\n",
       "      <td>0.0</td>\n",
       "      <td>0.0</td>\n",
       "      <td>0.0</td>\n",
       "      <td>0.0</td>\n",
       "      <td>0.0</td>\n",
       "      <td>...</td>\n",
       "      <td>0.0</td>\n",
       "      <td>0.0</td>\n",
       "      <td>0.0</td>\n",
       "      <td>0.0</td>\n",
       "      <td>0.0</td>\n",
       "      <td>0.0</td>\n",
       "      <td>0.0</td>\n",
       "      <td>3.0</td>\n",
       "      <td>0.0</td>\n",
       "      <td>0.0</td>\n",
       "    </tr>\n",
       "  </tbody>\n",
       "</table>\n",
       "<p>5 rows × 32 columns</p>\n",
       "</div>"
      ],
      "text/plain": [
       "    0    1    2    3    4    5    6    7    8    9  ...    22   23   24   25  \\\n",
       "0  0.0  0.0  0.0  0.0  0.0  0.0  0.0  0.0  0.0  0.0 ...   0.0  0.0  0.0  0.0   \n",
       "1  0.0  0.0  0.0  0.0  0.0  0.0  0.0  0.0  0.0  0.0 ...   0.0  0.0  0.0  0.0   \n",
       "2  0.0  0.0  0.0  0.0  0.0  0.0  0.0  0.0  0.0  0.0 ...   0.0  0.0  0.0  0.0   \n",
       "3  0.0  0.0  0.0  0.0  0.0  0.0  0.0  0.0  0.0  0.0 ...   0.0  0.0  0.0  0.0   \n",
       "4  0.0  0.0  0.0  0.0  0.0  0.0  0.0  0.0  0.0  0.0 ...   0.0  0.0  0.0  0.0   \n",
       "\n",
       "    26   27   28   29   30   31  \n",
       "0  0.0  0.0  0.0  0.0  0.0  0.0  \n",
       "1  0.0  0.0  3.0  3.0  0.0  0.0  \n",
       "2  0.0  0.0  0.0  0.0  0.0  0.0  \n",
       "3  0.0  1.0  0.0  0.0  0.0  1.0  \n",
       "4  0.0  0.0  0.0  3.0  0.0  0.0  \n",
       "\n",
       "[5 rows x 32 columns]"
      ]
     },
     "execution_count": 233,
     "metadata": {},
     "output_type": "execute_result"
    }
   ],
   "source": [
    "spam_test=pd.DataFrame(spam['test_data'])\n",
    "spam_test.head()"
   ]
  },
  {
   "cell_type": "code",
   "execution_count": 261,
   "metadata": {
    "collapsed": true
   },
   "outputs": [],
   "source": [
    "rf=DecisionTree(max_depth=30, num_features=8,random_forest=True)\n",
    "rf.fit(np.array(spam_training.drop(['training_labels'],axis=1)),np.array(spam_training['training_labels']))\n",
    "predictions=rf.predict(np.array(spam_test))"
   ]
  },
  {
   "cell_type": "code",
   "execution_count": 262,
   "metadata": {
    "collapsed": true
   },
   "outputs": [],
   "source": [
    "results_to_csv(predictions)"
   ]
  },
  {
   "cell_type": "code",
   "execution_count": null,
   "metadata": {
    "collapsed": true
   },
   "outputs": [],
   "source": []
  },
  {
   "cell_type": "code",
   "execution_count": null,
   "metadata": {
    "collapsed": true
   },
   "outputs": [],
   "source": []
  },
  {
   "cell_type": "code",
   "execution_count": null,
   "metadata": {
    "collapsed": true
   },
   "outputs": [],
   "source": []
  },
  {
   "cell_type": "markdown",
   "metadata": {},
   "source": [
    "## 3.5 Spam Data Write Up"
   ]
  },
  {
   "cell_type": "markdown",
   "metadata": {},
   "source": [
    "### Q2"
   ]
  },
  {
   "cell_type": "code",
   "execution_count": 417,
   "metadata": {},
   "outputs": [
    {
     "data": {
      "text/plain": [
       "level 0 freq_exclamation_feature  < 1e-05\n",
       "\tlevel 1 freq_meter_feature        < 1e-05\n",
       "\t\tlevel 2 freq_para_feature         < 1e-05\n",
       "\t\t\tleaf node:0\n",
       "\t\t\tleaf node:0\n",
       "\t\tleaf node:0\n",
       "\tlevel 1 freq_meter_feature        < 1e-05\n",
       "\t\tlevel 2 freq_and_feature          < 1e-05\n",
       "\t\t\tleaf node:1\n",
       "\t\t\tleaf node:0\n",
       "\t\tleaf node:0"
      ]
     },
     "execution_count": 417,
     "metadata": {},
     "output_type": "execute_result"
    }
   ],
   "source": [
    "dt=DecisionTree(max_depth=3,feature_labels=spam['column_names'])\n",
    "dt.fit(np.array(spam_train.drop(['training_labels'],axis=1)),np.array(spam_train['training_labels']))"
   ]
  },
  {
   "cell_type": "code",
   "execution_count": 383,
   "metadata": {},
   "outputs": [
    {
     "name": "stdout",
     "output_type": "stream",
     "text": [
      "The training accuracy is 0.797679814385\n"
     ]
    }
   ],
   "source": [
    "dt_predictions = dt.predict(np.array(spam_train.drop(['training_labels'],axis=1)))\n",
    "print('The training accuracy is', accuracy_score(dt_predictions,np.array(spam_train['training_labels'])))"
   ]
  },
  {
   "cell_type": "code",
   "execution_count": 384,
   "metadata": {},
   "outputs": [
    {
     "data": {
      "text/plain": [
       "array(['freq_pain_feature        ', 'freq_private_feature     ',\n",
       "       'freq_bank_feature        ', 'freq_money_feature       ',\n",
       "       'freq_drug_feature        ', 'freq_spam_feature        ',\n",
       "       'freq_prescription_feature', 'freq_creative_feature    ',\n",
       "       'freq_height_feature      ', 'freq_featured_feature    ',\n",
       "       'freq_differ_feature      ', 'freq_width_feature       ',\n",
       "       'freq_other_feature       ', 'freq_energy_feature      ',\n",
       "       'freq_business_feature    ', 'freq_message_feature     ',\n",
       "       'freq_volumes_feature     ', 'freq_revision_feature    ',\n",
       "       'freq_path_feature        ', 'freq_meter_feature       ',\n",
       "       'freq_memo_feature        ', 'freq_planning_feature    ',\n",
       "       'freq_pleased_feature     ', 'freq_record_feature      ',\n",
       "       'freq_out_feature         ', 'freq_semicolon_feature   ',\n",
       "       'freq_dollar_feature      ', 'freq_sharp_feature       ',\n",
       "       'freq_exclamation_feature ', 'freq_para_feature        ',\n",
       "       'freq_bracket_feature     ', 'freq_and_feature         '],\n",
       "      dtype='<U25')"
      ]
     },
     "execution_count": 384,
     "metadata": {},
     "output_type": "execute_result"
    }
   ],
   "source": [
    "spam['column_names']"
   ]
  },
  {
   "cell_type": "code",
   "execution_count": 389,
   "metadata": {
    "scrolled": false
   },
   "outputs": [
    {
     "data": {
      "text/html": [
       "<div>\n",
       "<style>\n",
       "    .dataframe thead tr:only-child th {\n",
       "        text-align: right;\n",
       "    }\n",
       "\n",
       "    .dataframe thead th {\n",
       "        text-align: left;\n",
       "    }\n",
       "\n",
       "    .dataframe tbody tr th {\n",
       "        vertical-align: top;\n",
       "    }\n",
       "</style>\n",
       "<table border=\"1\" class=\"dataframe\">\n",
       "  <thead>\n",
       "    <tr style=\"text-align: right;\">\n",
       "      <th></th>\n",
       "      <th>freq_exclamation_feature</th>\n",
       "      <th>freq_meter_feature</th>\n",
       "      <th>freq_and_feature</th>\n",
       "      <th>freq_para_feature</th>\n",
       "      <th>training_labels</th>\n",
       "      <th>prediction</th>\n",
       "    </tr>\n",
       "  </thead>\n",
       "  <tbody>\n",
       "    <tr>\n",
       "      <th>2170</th>\n",
       "      <td>0.0</td>\n",
       "      <td>0.0</td>\n",
       "      <td>2.0</td>\n",
       "      <td>0.0</td>\n",
       "      <td>0</td>\n",
       "      <td>0.0</td>\n",
       "    </tr>\n",
       "  </tbody>\n",
       "</table>\n",
       "</div>"
      ],
      "text/plain": [
       "      freq_exclamation_feature   freq_meter_feature         \\\n",
       "2170                        0.0                        0.0   \n",
       "\n",
       "      freq_and_feature           freq_para_feature          training_labels  \\\n",
       "2170                        2.0                        0.0                0   \n",
       "\n",
       "      prediction  \n",
       "2170         0.0  "
      ]
     },
     "execution_count": 389,
     "metadata": {},
     "output_type": "execute_result"
    }
   ],
   "source": [
    "full=spam_train.drop(['training_labels'],axis=1)\n",
    "full.columns=spam['column_names']\n",
    "full['training_labels']=spam_train['training_labels']\n",
    "full['prediction']=dt_predictions\n",
    "show=full[['freq_exclamation_feature ','freq_meter_feature       ','freq_and_feature         ','freq_para_feature        ','training_labels',\n",
    "                'prediction']]\n",
    "show.loc[[2170]]"
   ]
  },
  {
   "cell_type": "code",
   "execution_count": 391,
   "metadata": {
    "collapsed": true
   },
   "outputs": [],
   "source": [
    "# row of index 2170 in the table above is classified as 0\n",
    "# a) exclamation feature < 1e-5\n",
    "# b) meter feature < 1e-5\n",
    "# c) para feature < 1e-5\n",
    "# therefore this email is classified as 0[ham]\n",
    "\n"
   ]
  },
  {
   "cell_type": "code",
   "execution_count": 390,
   "metadata": {},
   "outputs": [
    {
     "data": {
      "text/html": [
       "<div>\n",
       "<style>\n",
       "    .dataframe thead tr:only-child th {\n",
       "        text-align: right;\n",
       "    }\n",
       "\n",
       "    .dataframe thead th {\n",
       "        text-align: left;\n",
       "    }\n",
       "\n",
       "    .dataframe tbody tr th {\n",
       "        vertical-align: top;\n",
       "    }\n",
       "</style>\n",
       "<table border=\"1\" class=\"dataframe\">\n",
       "  <thead>\n",
       "    <tr style=\"text-align: right;\">\n",
       "      <th></th>\n",
       "      <th>freq_exclamation_feature</th>\n",
       "      <th>freq_meter_feature</th>\n",
       "      <th>freq_and_feature</th>\n",
       "      <th>freq_para_feature</th>\n",
       "      <th>training_labels</th>\n",
       "      <th>prediction</th>\n",
       "    </tr>\n",
       "  </thead>\n",
       "  <tbody>\n",
       "    <tr>\n",
       "      <th>227</th>\n",
       "      <td>1.0</td>\n",
       "      <td>0.0</td>\n",
       "      <td>0.0</td>\n",
       "      <td>0.0</td>\n",
       "      <td>1</td>\n",
       "      <td>1.0</td>\n",
       "    </tr>\n",
       "  </tbody>\n",
       "</table>\n",
       "</div>"
      ],
      "text/plain": [
       "     freq_exclamation_feature   freq_meter_feature         \\\n",
       "227                        1.0                        0.0   \n",
       "\n",
       "     freq_and_feature           freq_para_feature          training_labels  \\\n",
       "227                        0.0                        0.0                1   \n",
       "\n",
       "     prediction  \n",
       "227         1.0  "
      ]
     },
     "execution_count": 390,
     "metadata": {},
     "output_type": "execute_result"
    }
   ],
   "source": [
    "show.loc[[227]]"
   ]
  },
  {
   "cell_type": "code",
   "execution_count": 392,
   "metadata": {
    "collapsed": true
   },
   "outputs": [],
   "source": [
    "# row of index 227 in the table above is classified as 1\n",
    "# a) exclamation feature > 1e-5\n",
    "# b) meter feature < 1e-5\n",
    "# c) para feature < 1e-5\n",
    "# therefore this email is classified as 1[spam]"
   ]
  },
  {
   "cell_type": "code",
   "execution_count": null,
   "metadata": {
    "collapsed": true
   },
   "outputs": [],
   "source": []
  },
  {
   "cell_type": "markdown",
   "metadata": {},
   "source": [
    "### Q3"
   ]
  },
  {
   "cell_type": "code",
   "execution_count": 13,
   "metadata": {
    "collapsed": true
   },
   "outputs": [],
   "source": [
    "spam_train=spam_training.sample(frac=4/5,random_state=200)\n",
    "spam_validation=spam_training.drop(spam_train.index)"
   ]
  },
  {
   "cell_type": "code",
   "execution_count": 274,
   "metadata": {},
   "outputs": [
    {
     "name": "stdout",
     "output_type": "stream",
     "text": [
      "0.756286266925\n",
      "0.79497098646\n",
      "0.818181818182\n",
      "0.816247582205\n",
      "0.827852998066\n",
      "0.827852998066\n",
      "0.832688588008\n",
      "0.829787234043\n",
      "0.829787234043\n"
     ]
    }
   ],
   "source": [
    "validation_accuracies=[]\n",
    "for depth in [1,5,10,15, 20,25,30,35,40]:\n",
    "    dt=DecisionTree(max_depth=depth)\n",
    "    dt.fit(np.array(spam_train.drop(['training_labels'],axis=1)),np.array(spam_train['training_labels']))\n",
    "    dt_predictions = dt.predict(np.array(spam_validation.drop(['training_labels'],axis=1)))\n",
    "    accuracy=accuracy_score(dt_predictions,np.array(spam_validation['training_labels']))\n",
    "    print(accuracy)\n",
    "    validation_accuracies.append(accuracy)\n",
    "    "
   ]
  },
  {
   "cell_type": "code",
   "execution_count": 282,
   "metadata": {},
   "outputs": [
    {
     "name": "stdout",
     "output_type": "stream",
     "text": [
      "0.829787234043\n",
      "0.829787234043\n"
     ]
    }
   ],
   "source": [
    "for depth in [45,50]:\n",
    "    dt=DecisionTree(max_depth=depth)\n",
    "    dt.fit(np.array(spam_train.drop(['training_labels'],axis=1)),np.array(spam_train['training_labels']))\n",
    "    dt_predictions = dt.predict(np.array(spam_validation.drop(['training_labels'],axis=1)))\n",
    "    accuracy=accuracy_score(dt_predictions,np.array(spam_validation['training_labels']))\n",
    "    print(accuracy)\n",
    "    validation_accuracies.append(accuracy)"
   ]
  },
  {
   "cell_type": "code",
   "execution_count": 285,
   "metadata": {},
   "outputs": [
    {
     "data": {
      "image/png": "[encoded data removed]",
      "text/plain": [
       "<matplotlib.figure.Figure at 0x117f27cc0>"
      ]
     },
     "metadata": {},
     "output_type": "display_data"
    }
   ],
   "source": [
    "import matplotlib.pyplot as plt \n",
    "plt.plot([1,5,10,15, 20,25,30,35,40,45,50],validation_accuracies)\n",
    "plt.xlabel('depth')\n",
    "plt.ylabel('validation accuracy')\n",
    "plt.title('Spam validation accuracy of different depths')\n",
    "plt.show()"
   ]
  },
  {
   "cell_type": "code",
   "execution_count": 420,
   "metadata": {
    "collapsed": true
   },
   "outputs": [],
   "source": [
    "# My plot here shows depth=30 gives highest validation accuracy. If max_depth goes higher \n",
    "# than 30,validation accuracy actually goes down because tree is overfitted, so performs \n",
    "# badly for validation. "
   ]
  },
  {
   "cell_type": "code",
   "execution_count": null,
   "metadata": {
    "collapsed": true
   },
   "outputs": [],
   "source": []
  },
  {
   "cell_type": "code",
   "execution_count": null,
   "metadata": {
    "collapsed": true
   },
   "outputs": [],
   "source": []
  },
  {
   "cell_type": "code",
   "execution_count": null,
   "metadata": {
    "collapsed": true
   },
   "outputs": [],
   "source": []
  },
  {
   "cell_type": "markdown",
   "metadata": {
    "collapsed": true
   },
   "source": [
    "## 3.6 Titanic Data"
   ]
  },
  {
   "cell_type": "code",
   "execution_count": 416,
   "metadata": {},
   "outputs": [
    {
     "data": {
      "text/plain": [
       "level 0 sex=male < 1e-05\n",
       "\tlevel 1 pclass < 2.11111\n",
       "\t\tlevel 2 embark=S < 1e-05\n",
       "\t\t\tleaf node:1\n",
       "\t\t\tleaf node:1\n",
       "\t\tlevel 2 fare < 34.7722233333\n",
       "\t\t\tleaf node:1\n",
       "\t\t\tleaf node:0\n",
       "\tlevel 1 pclass < 1.00001\n",
       "\t\tlevel 2 age < 43.9999988889\n",
       "\t\t\tleaf node:0\n",
       "\t\t\tleaf node:0\n",
       "\t\tlevel 2 age < 32.3333344444\n",
       "\t\t\tleaf node:0\n",
       "\t\t\tleaf node:0"
      ]
     },
     "execution_count": 416,
     "metadata": {},
     "output_type": "execute_result"
    }
   ],
   "source": [
    "dt=DecisionTree(max_depth=3, feature_labels=list(titanic_train))\n",
    "dt.fit(np.array(titanic_train.drop(['y'],axis=1)),np.array(titanic_train['y']))"
   ]
  },
  {
   "cell_type": "code",
   "execution_count": null,
   "metadata": {
    "collapsed": true
   },
   "outputs": [],
   "source": []
  }
 ],
 "metadata": {
  "kernelspec": {
   "display_name": "Python 3",
   "language": "python",
   "name": "python3"
  },
  "language_info": {
   "codemirror_mode": {
    "name": "ipython",
    "version": 3
   },
   "file_extension": ".py",
   "mimetype": "text/x-python",
   "name": "python",
   "nbconvert_exporter": "python",
   "pygments_lexer": "ipython3",
   "version": "3.6.3"
  }
 },
 "nbformat": 4,
 "nbformat_minor": 2
}
